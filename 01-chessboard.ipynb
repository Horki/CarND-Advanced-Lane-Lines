{
 "cells": [
  {
   "cell_type": "markdown",
   "metadata": {},
   "source": [
    "## Advanced Lane Finding Project\n",
    "\n",
    "The goals / steps of this project are the following:\n",
    "\n",
    "* Compute the camera calibration matrix and distortion coefficients given a set of chessboard images.\n",
    "* Apply a distortion correction to raw images.\n",
    "* Use color transforms, gradients, etc., to create a thresholded binary image.\n",
    "* Apply a perspective transform to rectify binary image (\"birds-eye view\").\n",
    "* Detect lane pixels and fit to find the lane boundary.\n",
    "* Determine the curvature of the lane and vehicle position with respect to center.\n",
    "* Warp the detected lane boundaries back onto the original image.\n",
    "* Output visual display of the lane boundaries and numerical estimation of lane curvature and vehicle position.\n",
    "\n",
    "---\n",
    "## First, I'll compute the camera calibration using chessboard images"
   ]
  },
  {
   "cell_type": "code",
   "execution_count": 1,
   "metadata": {},
   "outputs": [
    {
     "name": "stdout",
     "output_type": "stream",
     "text": [
      "works camera_cal/calibration14.jpg\n",
      "works camera_cal/calibration15.jpg\n",
      "works camera_cal/calibration1.jpg\n",
      "works camera_cal/calibration12.jpg\n",
      "works camera_cal/calibration18.jpg\n",
      "works camera_cal/calibration19.jpg\n",
      "Ret: False camera_cal/calibration5.jpg\n",
      "works camera_cal/calibration16.jpg\n",
      "works camera_cal/calibration2.jpg\n",
      "works camera_cal/calibration11.jpg\n",
      "works camera_cal/calibration6.jpg\n",
      "works camera_cal/calibration10.jpg\n",
      "works camera_cal/calibration20.jpg\n",
      "works camera_cal/calibration13.jpg\n",
      "works camera_cal/calibration3.jpg\n",
      "works camera_cal/calibration8.jpg\n",
      "Ret: False camera_cal/calibration4.jpg\n",
      "works camera_cal/calibration7.jpg\n",
      "works camera_cal/calibration9.jpg\n",
      "works camera_cal/calibration17.jpg\n"
     ]
    }
   ],
   "source": [
    "import pickle\n",
    "import cv2\n",
    "import numpy as np\n",
    "import matplotlib.pyplot as plt\n",
    "import matplotlib.image as mpimg\n",
    "import glob\n",
    "import os\n",
    "\n",
    "def cal_undistort(img, objpoints, imgpoints):\n",
    "    ret, mtx, dist, rvecs, tvecs = cv2.calibrateCamera(objpoints, imgpoints, img.shape[1:], None, None)\n",
    "    undist = cv2.undistort(img, mtx, dist, None, mtx)\n",
    "    return undist\n",
    "\n",
    "\n",
    "def find_chess(gray, nx, ny):\n",
    "    ret, corners = cv2.findChessboardCorners(gray, (nx, ny), None)\n",
    "    if ret == True:\n",
    "        return ret, corners, nx, ny\n",
    "    else:\n",
    "        for inx in range(nx, nx-2, -1):\n",
    "            for iny in range(ny, ny-4, -1):\n",
    "                ret, corners = cv2.findChessboardCorners(gray, (inx, iny), None)\n",
    "                if ret == True:\n",
    "                    return ret, corners, inx, iny\n",
    "        return False, None, 9, 6\n",
    "\n",
    "\n",
    "if __name__ == '__main__':\n",
    "    # prepare object points\n",
    "    nx = 9 # number of inside corners in x\n",
    "    ny = 6 # number of inside corners in y\n",
    "    objpoints = []\n",
    "\n",
    "    # Make a list of calibration images\n",
    "    images = glob.glob('camera_cal/calibration*.jpg')\n",
    "    for idx, image in enumerate(images):\n",
    "        nx, ny = 9, 6 # restart corners\n",
    "        imgpoints = []\n",
    "        objpoints = []\n",
    "        img = cv2.imread(image)\n",
    "        # Convert to grayscale\n",
    "        gray = cv2.cvtColor(img, cv2.COLOR_BGR2GRAY)\n",
    "\n",
    "        # # Find the chessboard corners\n",
    "        ret, corners, nx, ny = find_chess(gray, nx, ny)\n",
    "\n",
    "        # # If found, draw corners\n",
    "        if ret == True:\n",
    "            print(\"works\", image)\n",
    "            # Draw and display the corners\n",
    "            objp = np.zeros((nx*ny, 3), np.float32)\n",
    "            objp[:,:2] = np.mgrid[0:nx, 0:ny].T.reshape(-1,2)\n",
    "\n",
    "            objpoints.append(objp)\n",
    "            imgpoints.append(corners)\n",
    "            undistorted = cal_undistort(img, objpoints, imgpoints)\n",
    "            f, (ax1, ax2) = plt.subplots(1, 2, figsize=(24, 9))\n",
    "            f.tight_layout()\n",
    "            ax1.imshow(img)\n",
    "            ax1.set_title('Original Image', fontsize=50)\n",
    "            ax2.imshow(undistorted)\n",
    "            ax2.set_title('Undistorted Image', fontsize=50)\n",
    "            plt.subplots_adjust(left=0., right=1, top=0.9, bottom=0.)\n",
    "#             plt.show()\n",
    "#             plt.savefig(\"output_images/chess_{}\".format(os.path.basename(image)))\n",
    "        else:\n",
    "            print(\"Ret: False\", image)"
   ]
  },
  {
   "cell_type": "markdown",
   "metadata": {},
   "source": [
    "\n",
    "## And so on and so forth..."
   ]
  },
  {
   "cell_type": "code",
   "execution_count": null,
   "metadata": {},
   "outputs": [],
   "source": []
  }
 ],
 "metadata": {
  "anaconda-cloud": {},
  "kernelspec": {
   "display_name": "Python 3",
   "language": "python",
   "name": "python3"
  },
  "language_info": {
   "codemirror_mode": {
    "name": "ipython",
    "version": 3
   },
   "file_extension": ".py",
   "mimetype": "text/x-python",
   "name": "python",
   "nbconvert_exporter": "python",
   "pygments_lexer": "ipython3",
   "version": "3.7.3"
  }
 },
 "nbformat": 4,
 "nbformat_minor": 1
}
